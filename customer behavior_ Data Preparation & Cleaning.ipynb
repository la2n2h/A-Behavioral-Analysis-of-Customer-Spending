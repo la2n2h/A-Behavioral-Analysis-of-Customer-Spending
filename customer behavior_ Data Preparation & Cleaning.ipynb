{
 "cells": [
  {
   "cell_type": "code",
   "execution_count": 2,
   "id": "4d7faf37-0db2-435e-8593-ea3be2cf3913",
   "metadata": {},
   "outputs": [],
   "source": [
    "# import libraries\n",
    "import pandas as pd"
   ]
  },
  {
   "cell_type": "code",
   "execution_count": 8,
   "id": "c82c0677-8c52-4ade-a0ab-86e03fca3332",
   "metadata": {},
   "outputs": [
    {
     "data": {
      "text/html": [
       "<div>\n",
       "<style scoped>\n",
       "    .dataframe tbody tr th:only-of-type {\n",
       "        vertical-align: middle;\n",
       "    }\n",
       "\n",
       "    .dataframe tbody tr th {\n",
       "        vertical-align: top;\n",
       "    }\n",
       "\n",
       "    .dataframe thead th {\n",
       "        text-align: right;\n",
       "    }\n",
       "</style>\n",
       "<table border=\"1\" class=\"dataframe\">\n",
       "  <thead>\n",
       "    <tr style=\"text-align: right;\">\n",
       "      <th></th>\n",
       "      <th>Transaction ID</th>\n",
       "      <th>Date</th>\n",
       "      <th>Customer ID</th>\n",
       "      <th>Gender</th>\n",
       "      <th>Age</th>\n",
       "      <th>Product Category</th>\n",
       "      <th>Quantity</th>\n",
       "      <th>Price per Unit</th>\n",
       "      <th>Total Amount</th>\n",
       "      <th>City</th>\n",
       "      <th>Region</th>\n",
       "      <th>Country</th>\n",
       "      <th>Occupation</th>\n",
       "      <th>Income Level</th>\n",
       "      <th>Membership Type</th>\n",
       "      <th>Latitude</th>\n",
       "      <th>Longitude</th>\n",
       "    </tr>\n",
       "  </thead>\n",
       "  <tbody>\n",
       "    <tr>\n",
       "      <th>0</th>\n",
       "      <td>1</td>\n",
       "      <td>2023-11-24</td>\n",
       "      <td>CUST001</td>\n",
       "      <td>Male</td>\n",
       "      <td>34</td>\n",
       "      <td>Beauty</td>\n",
       "      <td>3</td>\n",
       "      <td>50</td>\n",
       "      <td>150</td>\n",
       "      <td>Boston</td>\n",
       "      <td>West</td>\n",
       "      <td>USA</td>\n",
       "      <td>Salesperson</td>\n",
       "      <td>Medium</td>\n",
       "      <td>VIP</td>\n",
       "      <td>42.3601</td>\n",
       "      <td>-71.0589</td>\n",
       "    </tr>\n",
       "    <tr>\n",
       "      <th>1</th>\n",
       "      <td>2</td>\n",
       "      <td>2023-02-27</td>\n",
       "      <td>CUST002</td>\n",
       "      <td>Female</td>\n",
       "      <td>26</td>\n",
       "      <td>Clothing</td>\n",
       "      <td>2</td>\n",
       "      <td>500</td>\n",
       "      <td>1000</td>\n",
       "      <td>Houston</td>\n",
       "      <td>Midwest</td>\n",
       "      <td>USA</td>\n",
       "      <td>Lawyer</td>\n",
       "      <td>Medium</td>\n",
       "      <td>New Customer</td>\n",
       "      <td>29.7604</td>\n",
       "      <td>-95.3698</td>\n",
       "    </tr>\n",
       "    <tr>\n",
       "      <th>2</th>\n",
       "      <td>3</td>\n",
       "      <td>2023-01-13</td>\n",
       "      <td>CUST003</td>\n",
       "      <td>Male</td>\n",
       "      <td>50</td>\n",
       "      <td>Electronics</td>\n",
       "      <td>1</td>\n",
       "      <td>30</td>\n",
       "      <td>30</td>\n",
       "      <td>San Francisco</td>\n",
       "      <td>Northeast</td>\n",
       "      <td>USA</td>\n",
       "      <td>Business Analyst</td>\n",
       "      <td>Low</td>\n",
       "      <td>VIP</td>\n",
       "      <td>37.7749</td>\n",
       "      <td>-122.4194</td>\n",
       "    </tr>\n",
       "    <tr>\n",
       "      <th>3</th>\n",
       "      <td>4</td>\n",
       "      <td>2023-05-21</td>\n",
       "      <td>CUST004</td>\n",
       "      <td>Male</td>\n",
       "      <td>37</td>\n",
       "      <td>Clothing</td>\n",
       "      <td>1</td>\n",
       "      <td>500</td>\n",
       "      <td>500</td>\n",
       "      <td>Boston</td>\n",
       "      <td>Northeast</td>\n",
       "      <td>USA</td>\n",
       "      <td>Student</td>\n",
       "      <td>Low</td>\n",
       "      <td>New Customer</td>\n",
       "      <td>42.3601</td>\n",
       "      <td>-71.0589</td>\n",
       "    </tr>\n",
       "    <tr>\n",
       "      <th>4</th>\n",
       "      <td>5</td>\n",
       "      <td>2023-05-06</td>\n",
       "      <td>CUST005</td>\n",
       "      <td>Male</td>\n",
       "      <td>30</td>\n",
       "      <td>Beauty</td>\n",
       "      <td>2</td>\n",
       "      <td>50</td>\n",
       "      <td>100</td>\n",
       "      <td>Chicago</td>\n",
       "      <td>Northeast</td>\n",
       "      <td>USA</td>\n",
       "      <td>Student</td>\n",
       "      <td>Medium</td>\n",
       "      <td>VIP</td>\n",
       "      <td>41.8781</td>\n",
       "      <td>-87.6298</td>\n",
       "    </tr>\n",
       "  </tbody>\n",
       "</table>\n",
       "</div>"
      ],
      "text/plain": [
       "   Transaction ID        Date Customer ID  Gender  Age Product Category  \\\n",
       "0               1  2023-11-24     CUST001    Male   34           Beauty   \n",
       "1               2  2023-02-27     CUST002  Female   26         Clothing   \n",
       "2               3  2023-01-13     CUST003    Male   50      Electronics   \n",
       "3               4  2023-05-21     CUST004    Male   37         Clothing   \n",
       "4               5  2023-05-06     CUST005    Male   30           Beauty   \n",
       "\n",
       "   Quantity  Price per Unit  Total Amount           City     Region Country  \\\n",
       "0         3              50           150         Boston       West     USA   \n",
       "1         2             500          1000        Houston    Midwest     USA   \n",
       "2         1              30            30  San Francisco  Northeast     USA   \n",
       "3         1             500           500         Boston  Northeast     USA   \n",
       "4         2              50           100        Chicago  Northeast     USA   \n",
       "\n",
       "         Occupation Income Level Membership Type  Latitude  Longitude  \n",
       "0       Salesperson       Medium             VIP   42.3601   -71.0589  \n",
       "1            Lawyer       Medium    New Customer   29.7604   -95.3698  \n",
       "2  Business Analyst          Low             VIP   37.7749  -122.4194  \n",
       "3           Student          Low    New Customer   42.3601   -71.0589  \n",
       "4           Student       Medium             VIP   41.8781   -87.6298  "
      ]
     },
     "execution_count": 8,
     "metadata": {},
     "output_type": "execute_result"
    }
   ],
   "source": [
    "# load dataset\n",
    "df = pd.read_csv('D:/project/retail_sales_enriched_with_coordinates.csv')\n",
    "df.head()"
   ]
  },
  {
   "cell_type": "code",
   "execution_count": 10,
   "id": "81f71ffa-9467-444a-a241-b6f75745a3d3",
   "metadata": {},
   "outputs": [
    {
     "name": "stdout",
     "output_type": "stream",
     "text": [
      "Transaction ID      0\n",
      "Date                0\n",
      "Customer ID         0\n",
      "Gender              0\n",
      "Age                 0\n",
      "Product Category    0\n",
      "Quantity            0\n",
      "Price per Unit      0\n",
      "Total Amount        0\n",
      "City                0\n",
      "Region              0\n",
      "Country             0\n",
      "Occupation          0\n",
      "Income Level        0\n",
      "Membership Type     0\n",
      "Latitude            0\n",
      "Longitude           0\n",
      "dtype: int64\n"
     ]
    }
   ],
   "source": [
    "# Check for missing values\n",
    "print(df.isnull().sum())\n",
    "\n",
    "# result: there is no null value in the dataset"
   ]
  },
  {
   "cell_type": "code",
   "execution_count": 12,
   "id": "6edaad15-fa0c-4fa8-93d1-82c5df8f75d9",
   "metadata": {},
   "outputs": [],
   "source": [
    "# Drop duplicates\n",
    "df = df.drop_duplicates()"
   ]
  },
  {
   "cell_type": "code",
   "execution_count": 14,
   "id": "61bb2274-3662-4b90-8fe2-7498815eeb23",
   "metadata": {},
   "outputs": [
    {
     "data": {
      "text/plain": [
       "Transaction ID        int64\n",
       "Date                 object\n",
       "Customer ID          object\n",
       "Gender               object\n",
       "Age                   int64\n",
       "Product Category     object\n",
       "Quantity              int64\n",
       "Price per Unit        int64\n",
       "Total Amount          int64\n",
       "City                 object\n",
       "Region               object\n",
       "Country              object\n",
       "Occupation           object\n",
       "Income Level         object\n",
       "Membership Type      object\n",
       "Latitude            float64\n",
       "Longitude           float64\n",
       "dtype: object"
      ]
     },
     "execution_count": 14,
     "metadata": {},
     "output_type": "execute_result"
    }
   ],
   "source": [
    "df.dtypes\n",
    "\n",
    "# Result: Date must be datatime format"
   ]
  },
  {
   "cell_type": "code",
   "execution_count": 16,
   "id": "1eb11e80-7749-4aa1-a2e3-02520c50afaa",
   "metadata": {},
   "outputs": [],
   "source": [
    "#Convert Date column to datetime format\n",
    "df[\"Date\"] = pd.to_datetime(df[\"Date\"])"
   ]
  },
  {
   "cell_type": "code",
   "execution_count": 18,
   "id": "e5836c7f-5482-458d-b256-2907f2026ab2",
   "metadata": {},
   "outputs": [
    {
     "name": "stdout",
     "output_type": "stream",
     "text": [
      "['Medium' 'Low' 'High']\n",
      "['VIP' 'New Customer' 'Regular']\n",
      "['Salesperson' 'Lawyer' 'Business Analyst' 'Student' 'Teacher' 'Artist'\n",
      " 'Engineer' 'Doctor']\n"
     ]
    }
   ],
   "source": [
    "# Verify categorical data consistency:\n",
    "print(df[\"Income Level\"].unique())  \n",
    "print(df[\"Membership Type\"].unique())  \n",
    "print(df[\"Occupation\"].unique())  "
   ]
  },
  {
   "cell_type": "code",
   "execution_count": 20,
   "id": "6b35079e-c319-405f-9069-9520b7573789",
   "metadata": {},
   "outputs": [
    {
     "data": {
      "image/png": "[encoded data removed]",
      "text/plain": [
       "<Figure size 1000x500 with 1 Axes>"
      ]
     },
     "metadata": {},
     "output_type": "display_data"
    }
   ],
   "source": [
    "# Check for outliers in numerical data\n",
    "# Look at Age, Quantity, Price per Unit, Total Amount for outliers using boxplots\n",
    "import seaborn as sns  \n",
    "import matplotlib.pyplot as plt  \n",
    "\n",
    "numeric_cols = [\"Age\", \"Quantity\", \"Price per Unit\", \"Total Amount\"]  \n",
    "df[numeric_cols].boxplot(figsize=(10,5))  \n",
    "plt.xticks(rotation=45)  \n",
    "plt.show()\n",
    "# result\n",
    "# boxplot indicates outliers in several numerical columns:\n",
    "# Age – Minor outliers, but not extreme. Likely a few customers with unusually high or low ages.\n",
    "# Quantity – No significant outliers, values appear to be well-distributed.\n",
    "# Price per Unit – Clear outliers, indicating some products are significantly more expensive than others.\n",
    "# Total Amount – Major outliers, suggesting a few transactions had exceptionally high total values."
   ]
  },
  {
   "cell_type": "code",
   "execution_count": 22,
   "id": "41f5c0c7-eec3-44e2-81b6-e67dde0276b0",
   "metadata": {},
   "outputs": [
    {
     "name": "stdout",
     "output_type": "stream",
     "text": [
      "Total Amount Outliers: 0 rows\n"
     ]
    }
   ],
   "source": [
    "# Identify Outlier Thresholds\n",
    "import numpy as np\n",
    "\n",
    "# Define function to detect outliers using IQR\n",
    "def detect_outliers(column):\n",
    "    Q1 = df[column].quantile(0.25)\n",
    "    Q3 = df[column].quantile(0.75)\n",
    "    IQR = Q3 - Q1\n",
    "    lower_bound = Q1 - 1.5 * IQR\n",
    "    upper_bound = Q3 + 1.5 * IQR\n",
    "    return df[(df[column] < lower_bound) | (df[column] > upper_bound)]\n",
    "\n",
    "# Check outliers for Total Amount\n",
    "outliers_total_amount = detect_outliers(\"Total Amount\")\n",
    "print(f\"Total Amount Outliers: {len(outliers_total_amount)} rows\")\n",
    "\n",
    "#result: \n",
    "# there are 0 outliers detected in the Total Amount column using the IQR method, it means:\n",
    "# The values in Total Amount are within a reasonable range based on IQR.\n",
    "# The extreme values seen in the boxplot might still be naturally occurring high values, not true outliers."
   ]
  },
  {
   "cell_type": "code",
   "execution_count": 24,
   "id": "2f8f8eee-5432-426f-aa4c-e81b238cd732",
   "metadata": {},
   "outputs": [],
   "source": [
    "# save dataframe after clean\n",
    "df.to_csv('D:/project/retail_sales_clean.csv')"
   ]
  },
  {
   "cell_type": "code",
   "execution_count": null,
   "id": "9ea87b9b-d41d-44e5-bbe5-ecc2f4e0fcfa",
   "metadata": {},
   "outputs": [],
   "source": []
  }
 ],
 "metadata": {
  "kernelspec": {
   "display_name": "Python [conda env:base] *",
   "language": "python",
   "name": "conda-base-py"
  },
  "language_info": {
   "codemirror_mode": {
    "name": "ipython",
    "version": 3
   },
   "file_extension": ".py",
   "mimetype": "text/x-python",
   "name": "python",
   "nbconvert_exporter": "python",
   "pygments_lexer": "ipython3",
   "version": "3.12.7"
  }
 },
 "nbformat": 4,
 "nbformat_minor": 5
}
